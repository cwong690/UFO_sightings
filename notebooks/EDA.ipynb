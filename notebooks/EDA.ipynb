{
 "cells": [
  {
   "cell_type": "code",
   "execution_count": 98,
   "metadata": {},
   "outputs": [
    {
     "name": "stdout",
     "output_type": "stream",
     "text": [
      "The autoreload extension is already loaded. To reload it, use:\n",
      "  %reload_ext autoreload\n"
     ]
    }
   ],
   "source": [
    "%load_ext autoreload\n",
    "%autoreload 2\n",
    "%matplotlib inline\n",
    "\n",
    "import numpy as np\n",
    "import pandas as pd\n",
    "import plotly.express as ex\n",
    "import matplotlib.pyplot as plt\n",
    "import datetime\n",
    "\n",
    "plt.style.use('ggplot')"
   ]
  },
  {
   "cell_type": "code",
   "execution_count": 122,
   "metadata": {},
   "outputs": [],
   "source": [
    "data = pd.read_csv('../data/ufo.csv')"
   ]
  },
  {
   "cell_type": "code",
   "execution_count": 123,
   "metadata": {
    "collapsed": true,
    "jupyter": {
     "outputs_hidden": true
    }
   },
   "outputs": [
    {
     "data": {
      "text/html": [
       "<div>\n",
       "<style scoped>\n",
       "    .dataframe tbody tr th:only-of-type {\n",
       "        vertical-align: middle;\n",
       "    }\n",
       "\n",
       "    .dataframe tbody tr th {\n",
       "        vertical-align: top;\n",
       "    }\n",
       "\n",
       "    .dataframe thead th {\n",
       "        text-align: right;\n",
       "    }\n",
       "</style>\n",
       "<table border=\"1\" class=\"dataframe\">\n",
       "  <thead>\n",
       "    <tr style=\"text-align: right;\">\n",
       "      <th></th>\n",
       "      <th>Datetime</th>\n",
       "      <th>Location</th>\n",
       "      <th>Shape</th>\n",
       "      <th>Duration</th>\n",
       "      <th>Text</th>\n",
       "      <th>Notes</th>\n",
       "    </tr>\n",
       "  </thead>\n",
       "  <tbody>\n",
       "    <tr>\n",
       "      <th>0</th>\n",
       "      <td>5/6/2017 05:00</td>\n",
       "      <td>Camp McGregor, NM</td>\n",
       "      <td>Light</td>\n",
       "      <td>10 minute</td>\n",
       "      <td>Light seen over mountain's east of Camp McGre...</td>\n",
       "      <td>Report appears to us to be consistent with t...</td>\n",
       "    </tr>\n",
       "    <tr>\n",
       "      <th>1</th>\n",
       "      <td>5/5/2017 11:30</td>\n",
       "      <td>Austin, TX</td>\n",
       "      <td>Disk</td>\n",
       "      <td>3 second</td>\n",
       "      <td>Flying saucer descends, possibly lands in Nor...</td>\n",
       "      <td>We would like to communicate with this witne...</td>\n",
       "    </tr>\n",
       "    <tr>\n",
       "      <th>2</th>\n",
       "      <td>5/4/2017 21:27</td>\n",
       "      <td>Phoenix, AZ</td>\n",
       "      <td>Circle</td>\n",
       "      <td>15 second</td>\n",
       "      <td>Orange round sphere.  Orange glowing sphere f...</td>\n",
       "      <td>We have amended the time above, to reflect a...</td>\n",
       "    </tr>\n",
       "    <tr>\n",
       "      <th>3</th>\n",
       "      <td>5/4/2017 18:30</td>\n",
       "      <td>Phoenix, AZ</td>\n",
       "      <td>Teardrop</td>\n",
       "      <td>5 minute</td>\n",
       "      <td>Flying corkscrews  Looking to th east at abou...</td>\n",
       "      <td>Source of the report elects to remain anonymous</td>\n",
       "    </tr>\n",
       "    <tr>\n",
       "      <th>4</th>\n",
       "      <td>5/4/2017 04:50</td>\n",
       "      <td>Taft, CA</td>\n",
       "      <td>Changing</td>\n",
       "      <td>20 second</td>\n",
       "      <td>I'm a truck driver and I've seen the reddish/...</td>\n",
       "      <td>Witness indicates \"Taft, Indiana\" in origina...</td>\n",
       "    </tr>\n",
       "  </tbody>\n",
       "</table>\n",
       "</div>"
      ],
      "text/plain": [
       "            Datetime             Location       Shape   Duration  \\\n",
       "0   5/6/2017 05:00     Camp McGregor, NM       Light   10 minute   \n",
       "1   5/5/2017 11:30            Austin, TX        Disk    3 second   \n",
       "2   5/4/2017 21:27           Phoenix, AZ      Circle   15 second   \n",
       "3   5/4/2017 18:30           Phoenix, AZ    Teardrop    5 minute   \n",
       "4   5/4/2017 04:50              Taft, CA    Changing   20 second   \n",
       "\n",
       "                                                Text  \\\n",
       "0   Light seen over mountain's east of Camp McGre...   \n",
       "1   Flying saucer descends, possibly lands in Nor...   \n",
       "2   Orange round sphere.  Orange glowing sphere f...   \n",
       "3   Flying corkscrews  Looking to th east at abou...   \n",
       "4   I'm a truck driver and I've seen the reddish/...   \n",
       "\n",
       "                                               Notes  \n",
       "0    Report appears to us to be consistent with t...  \n",
       "1    We would like to communicate with this witne...  \n",
       "2    We have amended the time above, to reflect a...  \n",
       "3    Source of the report elects to remain anonymous  \n",
       "4    Witness indicates \"Taft, Indiana\" in origina...  "
      ]
     },
     "execution_count": 123,
     "metadata": {},
     "output_type": "execute_result"
    }
   ],
   "source": [
    "data.head()"
   ]
  },
  {
   "cell_type": "code",
   "execution_count": 139,
   "metadata": {},
   "outputs": [
    {
     "name": "stdout",
     "output_type": "stream",
     "text": [
      "1540\n"
     ]
    }
   ],
   "source": [
    "# One of the timestamps is causing errors\n",
    "times = data['Datetime']\n",
    "for n,time in enumerate(times):\n",
    "    try:\n",
    "        pd.to_datetime(time)\n",
    "    except:\n",
    "        print(n)\n",
    "data = data.drop(index=1540)"
   ]
  },
  {
   "cell_type": "code",
   "execution_count": 140,
   "metadata": {},
   "outputs": [],
   "source": [
    "data['dt'] = pd.to_datetime(data['Datetime'])"
   ]
  },
  {
   "cell_type": "code",
   "execution_count": 142,
   "metadata": {},
   "outputs": [
    {
     "data": {
      "text/html": [
       "<div>\n",
       "<style scoped>\n",
       "    .dataframe tbody tr th:only-of-type {\n",
       "        vertical-align: middle;\n",
       "    }\n",
       "\n",
       "    .dataframe tbody tr th {\n",
       "        vertical-align: top;\n",
       "    }\n",
       "\n",
       "    .dataframe thead th {\n",
       "        text-align: right;\n",
       "    }\n",
       "</style>\n",
       "<table border=\"1\" class=\"dataframe\">\n",
       "  <thead>\n",
       "    <tr style=\"text-align: right;\">\n",
       "      <th></th>\n",
       "      <th>Location</th>\n",
       "      <th>Shape</th>\n",
       "      <th>Duration</th>\n",
       "      <th>Text</th>\n",
       "      <th>Notes</th>\n",
       "      <th>dt</th>\n",
       "    </tr>\n",
       "  </thead>\n",
       "  <tbody>\n",
       "    <tr>\n",
       "      <th>0</th>\n",
       "      <td>Camp McGregor, NM</td>\n",
       "      <td>Light</td>\n",
       "      <td>10 minute</td>\n",
       "      <td>Light seen over mountain's east of Camp McGre...</td>\n",
       "      <td>Report appears to us to be consistent with t...</td>\n",
       "      <td>2017-05-06 05:00:00</td>\n",
       "    </tr>\n",
       "    <tr>\n",
       "      <th>1</th>\n",
       "      <td>Austin, TX</td>\n",
       "      <td>Disk</td>\n",
       "      <td>3 second</td>\n",
       "      <td>Flying saucer descends, possibly lands in Nor...</td>\n",
       "      <td>We would like to communicate with this witne...</td>\n",
       "      <td>2017-05-05 11:30:00</td>\n",
       "    </tr>\n",
       "    <tr>\n",
       "      <th>2</th>\n",
       "      <td>Phoenix, AZ</td>\n",
       "      <td>Circle</td>\n",
       "      <td>15 second</td>\n",
       "      <td>Orange round sphere.  Orange glowing sphere f...</td>\n",
       "      <td>We have amended the time above, to reflect a...</td>\n",
       "      <td>2017-05-04 21:27:00</td>\n",
       "    </tr>\n",
       "    <tr>\n",
       "      <th>3</th>\n",
       "      <td>Phoenix, AZ</td>\n",
       "      <td>Teardrop</td>\n",
       "      <td>5 minute</td>\n",
       "      <td>Flying corkscrews  Looking to th east at abou...</td>\n",
       "      <td>Source of the report elects to remain anonymous</td>\n",
       "      <td>2017-05-04 18:30:00</td>\n",
       "    </tr>\n",
       "    <tr>\n",
       "      <th>4</th>\n",
       "      <td>Taft, CA</td>\n",
       "      <td>Changing</td>\n",
       "      <td>20 second</td>\n",
       "      <td>I'm a truck driver and I've seen the reddish/...</td>\n",
       "      <td>Witness indicates \"Taft, Indiana\" in origina...</td>\n",
       "      <td>2017-05-04 04:50:00</td>\n",
       "    </tr>\n",
       "  </tbody>\n",
       "</table>\n",
       "</div>"
      ],
      "text/plain": [
       "              Location       Shape   Duration  \\\n",
       "0   Camp McGregor, NM       Light   10 minute   \n",
       "1          Austin, TX        Disk    3 second   \n",
       "2         Phoenix, AZ      Circle   15 second   \n",
       "3         Phoenix, AZ    Teardrop    5 minute   \n",
       "4            Taft, CA    Changing   20 second   \n",
       "\n",
       "                                                Text  \\\n",
       "0   Light seen over mountain's east of Camp McGre...   \n",
       "1   Flying saucer descends, possibly lands in Nor...   \n",
       "2   Orange round sphere.  Orange glowing sphere f...   \n",
       "3   Flying corkscrews  Looking to th east at abou...   \n",
       "4   I'm a truck driver and I've seen the reddish/...   \n",
       "\n",
       "                                               Notes                  dt  \n",
       "0    Report appears to us to be consistent with t... 2017-05-06 05:00:00  \n",
       "1    We would like to communicate with this witne... 2017-05-05 11:30:00  \n",
       "2    We have amended the time above, to reflect a... 2017-05-04 21:27:00  \n",
       "3    Source of the report elects to remain anonymous 2017-05-04 18:30:00  \n",
       "4    Witness indicates \"Taft, Indiana\" in origina... 2017-05-04 04:50:00  "
      ]
     },
     "execution_count": 142,
     "metadata": {},
     "output_type": "execute_result"
    }
   ],
   "source": [
    "data = data.drop(columns='Datetime')\n",
    "data['dates'] = data['dt'].dt.normalize()\n",
    "data['times'] = data['dt'].dt.time"
   ]
  },
  {
   "cell_type": "code",
   "execution_count": 164,
   "metadata": {},
   "outputs": [],
   "source": [
    "data['City'] = data['Location'].apply(lambda x: \" \".join(x.split(', ')[:1]))\n",
    "data['State'] = data['Location'].apply(lambda x: \" \".join(x.split(', ')[1:]))\n",
    "data.drop('Location', axis=1, inplace=True)"
   ]
  },
  {
   "cell_type": "code",
   "execution_count": 167,
   "metadata": {},
   "outputs": [],
   "source": [
    "data.drop('dt', axis=1, inplace=True)"
   ]
  },
  {
   "cell_type": "code",
   "execution_count": 168,
   "metadata": {},
   "outputs": [
    {
     "data": {
      "text/html": [
       "<div>\n",
       "<style scoped>\n",
       "    .dataframe tbody tr th:only-of-type {\n",
       "        vertical-align: middle;\n",
       "    }\n",
       "\n",
       "    .dataframe tbody tr th {\n",
       "        vertical-align: top;\n",
       "    }\n",
       "\n",
       "    .dataframe thead th {\n",
       "        text-align: right;\n",
       "    }\n",
       "</style>\n",
       "<table border=\"1\" class=\"dataframe\">\n",
       "  <thead>\n",
       "    <tr style=\"text-align: right;\">\n",
       "      <th></th>\n",
       "      <th>Shape</th>\n",
       "      <th>Duration</th>\n",
       "      <th>Text</th>\n",
       "      <th>Notes</th>\n",
       "      <th>dates</th>\n",
       "      <th>times</th>\n",
       "      <th>city</th>\n",
       "      <th>state</th>\n",
       "    </tr>\n",
       "  </thead>\n",
       "  <tbody>\n",
       "    <tr>\n",
       "      <th>0</th>\n",
       "      <td>Light</td>\n",
       "      <td>10 minute</td>\n",
       "      <td>Light seen over mountain's east of Camp McGre...</td>\n",
       "      <td>Report appears to us to be consistent with t...</td>\n",
       "      <td>2017-05-06</td>\n",
       "      <td>05:00:00</td>\n",
       "      <td>Camp McGregor</td>\n",
       "      <td>NM</td>\n",
       "    </tr>\n",
       "    <tr>\n",
       "      <th>1</th>\n",
       "      <td>Disk</td>\n",
       "      <td>3 second</td>\n",
       "      <td>Flying saucer descends, possibly lands in Nor...</td>\n",
       "      <td>We would like to communicate with this witne...</td>\n",
       "      <td>2017-05-05</td>\n",
       "      <td>11:30:00</td>\n",
       "      <td>Austin</td>\n",
       "      <td>TX</td>\n",
       "    </tr>\n",
       "    <tr>\n",
       "      <th>2</th>\n",
       "      <td>Circle</td>\n",
       "      <td>15 second</td>\n",
       "      <td>Orange round sphere.  Orange glowing sphere f...</td>\n",
       "      <td>We have amended the time above, to reflect a...</td>\n",
       "      <td>2017-05-04</td>\n",
       "      <td>21:27:00</td>\n",
       "      <td>Phoenix</td>\n",
       "      <td>AZ</td>\n",
       "    </tr>\n",
       "    <tr>\n",
       "      <th>3</th>\n",
       "      <td>Teardrop</td>\n",
       "      <td>5 minute</td>\n",
       "      <td>Flying corkscrews  Looking to th east at abou...</td>\n",
       "      <td>Source of the report elects to remain anonymous</td>\n",
       "      <td>2017-05-04</td>\n",
       "      <td>18:30:00</td>\n",
       "      <td>Phoenix</td>\n",
       "      <td>AZ</td>\n",
       "    </tr>\n",
       "    <tr>\n",
       "      <th>4</th>\n",
       "      <td>Changing</td>\n",
       "      <td>20 second</td>\n",
       "      <td>I'm a truck driver and I've seen the reddish/...</td>\n",
       "      <td>Witness indicates \"Taft, Indiana\" in origina...</td>\n",
       "      <td>2017-05-04</td>\n",
       "      <td>04:50:00</td>\n",
       "      <td>Taft</td>\n",
       "      <td>CA</td>\n",
       "    </tr>\n",
       "  </tbody>\n",
       "</table>\n",
       "</div>"
      ],
      "text/plain": [
       "        Shape   Duration                                               Text  \\\n",
       "0      Light   10 minute   Light seen over mountain's east of Camp McGre...   \n",
       "1       Disk    3 second   Flying saucer descends, possibly lands in Nor...   \n",
       "2     Circle   15 second   Orange round sphere.  Orange glowing sphere f...   \n",
       "3   Teardrop    5 minute   Flying corkscrews  Looking to th east at abou...   \n",
       "4   Changing   20 second   I'm a truck driver and I've seen the reddish/...   \n",
       "\n",
       "                                               Notes      dates     times  \\\n",
       "0    Report appears to us to be consistent with t... 2017-05-06  05:00:00   \n",
       "1    We would like to communicate with this witne... 2017-05-05  11:30:00   \n",
       "2    We have amended the time above, to reflect a... 2017-05-04  21:27:00   \n",
       "3    Source of the report elects to remain anonymous 2017-05-04  18:30:00   \n",
       "4    Witness indicates \"Taft, Indiana\" in origina... 2017-05-04  04:50:00   \n",
       "\n",
       "             city state  \n",
       "0   Camp McGregor   NM   \n",
       "1          Austin   TX   \n",
       "2         Phoenix   AZ   \n",
       "3         Phoenix   AZ   \n",
       "4            Taft   CA   "
      ]
     },
     "execution_count": 168,
     "metadata": {},
     "output_type": "execute_result"
    }
   ],
   "source": [
    "data.head()"
   ]
  },
  {
   "cell_type": "code",
   "execution_count": 175,
   "metadata": {},
   "outputs": [
    {
     "data": {
      "text/plain": [
       "0       NM \n",
       "1       TX \n",
       "2       AZ \n",
       "3       AZ \n",
       "4       CA \n",
       "       ... \n",
       "2731    AZ \n",
       "2732    ME \n",
       "2733    OR \n",
       "2734    NH \n",
       "2735    PA \n",
       "Name: state, Length: 2735, dtype: object"
      ]
     },
     "execution_count": 175,
     "metadata": {},
     "output_type": "execute_result"
    }
   ],
   "source": [
    "data['state'].replace('', 'Unknown')"
   ]
  },
  {
   "cell_type": "code",
   "execution_count": null,
   "metadata": {},
   "outputs": [],
   "source": [
    "def remove_notes(df):\n",
    "\n",
    "data.iloc[0,6]\n",
    "\n",
    "samp = data.iloc[0,5].replace(data.iloc[0,6], '')"
   ]
  },
  {
   "cell_type": "markdown",
   "metadata": {},
   "source": [
    "## Do some inital EDA on the pandas dataframe\n",
    "columns: Date, Time, Location, Shape, Duration, Observation Text, Note Text"
   ]
  },
  {
   "cell_type": "code",
   "execution_count": 36,
   "metadata": {
    "collapsed": true,
    "jupyter": {
     "outputs_hidden": true,
     "source_hidden": true
    }
   },
   "outputs": [
    {
     "data": {
      "text/plain": [
       "DatetimeIndex(['2016-10-08 07:34:13', '2015-11-15 06:12:48',\n",
       "               '2015-01-24 10:11:04', '2015-03-26 16:23:53',\n",
       "               '2017-04-01 00:38:21', '2015-05-15 03:47:54',\n",
       "               '2015-06-24 07:32:32'],\n",
       "              dtype='datetime64[ns]', freq=None)"
      ]
     },
     "execution_count": 36,
     "metadata": {},
     "output_type": "execute_result"
    }
   ],
   "source": [
    "time = ['2016-10-08 07:34:13', '2015-11-15 06:12:48',\n",
    "               '2015-01-24 10:11:04', '2015-03-26 16:23:53',\n",
    "               '2017-04-01 00:38:21', '2015-05-15 03:47:54',\n",
    "               '2015-06-24 07:32:32']\n",
    "times = pd.to_datetime(time)"
   ]
  },
  {
   "cell_type": "code",
   "execution_count": 55,
   "metadata": {
    "jupyter": {
     "source_hidden": true
    }
   },
   "outputs": [],
   "source": [
    "# Create some mockdata for now\n",
    "dates = ['1', '2', '3', '1', '4', '5', '2']\n",
    "times = pd.to_datetime(time)\n",
    "locations = ['canada', 'washington', 'ohio', 'united states', 'california', 'florida', 'ohio']\n",
    "shape = ['disk', 'circle', 'light', 'circle', 'cylinder', 'unspecified', 'disk']\n",
    "duration = [10, 15, 20, 10, 5, 5, 12]\n",
    "text = ['laskdjflksjdf;', 'alkdsjfljlkjdf', 'wodlkjflsakdj', 'alskjfkdsaf', 'a;lskdjflkj', 'asdf', 'asdasdf']\n",
    "note_text = ['laskdjfljdf;', 'alkdsjflkjdf', 'lkjflsakdj', 'jfkdsaf', 'akdjflkj', 'asf', 'sdasdf']\n",
    "\n",
    "df = pd.DataFrame({'dates': dates, 'times': times, 'locations': locations, 'shape': shape, 'duration': duration,\n",
    "                  'text': text, 'note_text': note_text})\n"
   ]
  },
  {
   "cell_type": "code",
   "execution_count": null,
   "metadata": {},
   "outputs": [],
   "source": []
  },
  {
   "cell_type": "code",
   "execution_count": 183,
   "metadata": {},
   "outputs": [
    {
     "data": {
      "image/png": "[encoded data removed]",
      "text/plain": [
       "<Figure size 864x288 with 2 Axes>"
      ]
     },
     "metadata": {},
     "output_type": "display_data"
    }
   ],
   "source": [
    "# Lets look at shapes and durations\n",
    "shape_counts = data['Shape'].value_counts()\n",
    "fig, axes = plt.subplots(1,2,figsize=(12,4))\n",
    "\n",
    "ax = axes[0]\n",
    "duration_counts = data['Duration'].value_counts()\n",
    "ax.bar(duration_counts.index, height=duration_counts.values, alpha=0.8)\n",
    "ax.set_title(\"Duration\")\n",
    "ax.set_ylabel(\"Counts\")\n",
    "ax.set_xlabel(\"Minutes\")\n",
    "\n",
    "ax = axes[1]\n",
    "ax.bar(shape_counts.index, height=shape_counts.values, alpha=0.8)\n",
    "ax.set_title(\"Counts of Shapes\")\n",
    "ax.set_ylabel(\"Counts\")\n",
    "plt.xticks(rotation=90)\n",
    "plt.savefig('../images/shape_duration.png', bbox_inches='tight')"
   ]
  },
  {
   "cell_type": "code",
   "execution_count": 178,
   "metadata": {},
   "outputs": [],
   "source": [
    "data['state'].value_counts().index\n",
    "labels = ['CA ', 'FL ', 'AZ ', 'WA ', 'Unknown', 'NY ', 'CO ', 'PA ', 'TX ', 'NC ',\n",
    "       'GA ', 'OH ', 'OR ', 'IL ', 'WI ', 'TN ', 'MO ', 'MI ', 'NJ ', 'MD ']"
   ]
  },
  {
   "cell_type": "code",
   "execution_count": 184,
   "metadata": {},
   "outputs": [
    {
     "data": {
      "image/png": "[encoded data removed]",
      "text/plain": [
       "<Figure size 864x288 with 1 Axes>"
      ]
     },
     "metadata": {},
     "output_type": "display_data"
    }
   ],
   "source": [
    "# Locations\n",
    "state_counts = data['state'].value_counts()[:20]\n",
    "fig, ax = plt.subplots(figsize=(12,4))\n",
    "\n",
    "ax.bar(labels, height=state_counts.values, alpha=0.8)\n",
    "ax.set_title(\"States\")\n",
    "ax.set_ylabel(\"Counts\")\n",
    "plt.xticks(rotation=90)\n",
    "plt.savefig('../images/state_counts.png', bbox_inches='tight')"
   ]
  },
  {
   "cell_type": "code",
   "execution_count": 151,
   "metadata": {},
   "outputs": [],
   "source": [
    "df = data.copy()"
   ]
  },
  {
   "cell_type": "code",
   "execution_count": 152,
   "metadata": {},
   "outputs": [],
   "source": [
    "early_morning = df[df['times'] < datetime.time(5, 0,0)]\n",
    "morning = df[(df['times'] > datetime.time(5,0,0)) & (df['times'] < datetime.time(12,0,0))]\n",
    "afternoon = df[(df['times'] > datetime.time(12,0,0)) & (df['times'] < datetime.time(17,0,0))]\n",
    "evening = df[(df['times'] > datetime.time(17,0,0)) & (df['times'] < datetime.time(23,59,59))]"
   ]
  },
  {
   "cell_type": "code",
   "execution_count": 153,
   "metadata": {},
   "outputs": [
    {
     "data": {
      "text/plain": [
       "439"
      ]
     },
     "execution_count": 153,
     "metadata": {},
     "output_type": "execute_result"
    }
   ],
   "source": [
    "early_morning.shape[0]"
   ]
  },
  {
   "cell_type": "code",
   "execution_count": 156,
   "metadata": {},
   "outputs": [],
   "source": [
    "def find_times(df):\n",
    "    early_morning = df[df['times'] < datetime.time(5, 0,0)]\n",
    "    morning = df[(df['times'] > datetime.time(5,0,0)) & (df['times'] < datetime.time(12,0,0))]\n",
    "    afternoon = df[(df['times'] > datetime.time(12,0,0)) & (df['times'] < datetime.time(17,0,0))]\n",
    "    evening = df[(df['times'] > datetime.time(17,0,0)) & (df['times'] < datetime.time(23,59,59))]\n",
    "    \n",
    "    n_earlymorning = early_morning.shape[0]\n",
    "    n_morning = morning.shape[0]\n",
    "    n_afternoon = afternoon.shape[0]\n",
    "    n_evening = evening.shape[0]\n",
    "    \n",
    "    return [n_earlymorning, n_morning, n_afternoon, n_evening]"
   ]
  },
  {
   "cell_type": "code",
   "execution_count": 157,
   "metadata": {},
   "outputs": [
    {
     "data": {
      "image/png": "[encoded data removed]",
      "text/plain": [
       "<Figure size 432x288 with 1 Axes>"
      ]
     },
     "metadata": {},
     "output_type": "display_data"
    }
   ],
   "source": [
    "# Make pie-chart of times\n",
    "labels = ['Early Morning', 'Morning', 'Afternoon', 'Evening']\n",
    "sizes = find_times(df)\n",
    "explode = (0, 0, 0, 0)  # only \"explode\" the 2nd slice (i.e. 'Hogs')\n",
    "\n",
    "fig, ax = plt.subplots()\n",
    "ax.pie(sizes, explode=explode, labels=labels, autopct='%1.1f%%',\n",
    "        shadow=True, startangle=90)\n",
    "ax.axis('equal')  # Equal aspect ratio ensures that pie is drawn as a circle.\n",
    "plt.savefig('../images/time_of_day.png')\n"
   ]
  }
 ],
 "metadata": {
  "kernelspec": {
   "display_name": "Python 3",
   "language": "python",
   "name": "python3"
  },
  "language_info": {
   "codemirror_mode": {
    "name": "ipython",
    "version": 3
   },
   "file_extension": ".py",
   "mimetype": "text/x-python",
   "name": "python",
   "nbconvert_exporter": "python",
   "pygments_lexer": "ipython3",
   "version": "3.7.0"
  }
 },
 "nbformat": 4,
 "nbformat_minor": 4
}
