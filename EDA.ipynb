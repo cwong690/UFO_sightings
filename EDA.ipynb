{
 "cells": [
  {
   "cell_type": "code",
   "execution_count": 32,
   "metadata": {},
   "outputs": [
    {
     "name": "stdout",
     "output_type": "stream",
     "text": [
      "The autoreload extension is already loaded. To reload it, use:\n",
      "  %reload_ext autoreload\n"
     ]
    }
   ],
   "source": [
    "%load_ext autoreload\n",
    "%autoreload 2\n",
    "%matplotlib inline\n",
    "\n",
    "import numpy as np\n",
    "import pandas as pd\n",
    "import plotly.express as ex\n",
    "import matplotlib.pyplot as plt\n",
    "import datetime\n",
    "\n",
    "plt.style.use('ggplot')"
   ]
  },
  {
   "cell_type": "code",
   "execution_count": 74,
   "metadata": {},
   "outputs": [],
   "source": [
    "data = pd.read_csv('data/ufo_3500.csv')"
   ]
  },
  {
   "cell_type": "code",
   "execution_count": 91,
   "metadata": {},
   "outputs": [
    {
     "data": {
      "text/plain": [
       "\"Light seen over mountain's east of Camp McGregor.  It hovered in one spot.  It looked like a helicopter light at first.  But it was way to bright.  Then it went to a higher height.  Stayed there for a while.  Then disappeared.   ((NUFORC Note:  PD\""
      ]
     },
     "execution_count": 91,
     "metadata": {},
     "output_type": "execute_result"
    }
   ],
   "source": [
    "data.iloc[0,6]\n",
    "string = '\\(\\(NUFORC Note\\)\\)'\n",
    "samp = data.iloc[0,5].replace(data.iloc[0,6], '')\n",
    "samp.strip(NUFORC Note)"
   ]
  },
  {
   "cell_type": "code",
   "execution_count": 82,
   "metadata": {},
   "outputs": [
    {
     "data": {
      "text/plain": [
       "\"Light seen over mountain's east of Camp McGregor.  It hovered in one spot.  It looked like a helicopter light at first.  But it was way to bright.  Then it went to a higher height.  Stayed there for a while.  Then disappeared.   ((NUFORC Note:  Report appears to us to be consistent with the sighting of Venus.  PD))\""
      ]
     },
     "execution_count": 82,
     "metadata": {},
     "output_type": "execute_result"
    }
   ],
   "source": [
    "data.iloc[0,5].strip(str(data.iloc[0,6]))"
   ]
  },
  {
   "cell_type": "code",
   "execution_count": null,
   "metadata": {},
   "outputs": [],
   "source": []
  },
  {
   "cell_type": "markdown",
   "metadata": {},
   "source": [
    "## Do some inital EDA on the pandas dataframe\n",
    "columns: Date, Time, Location, Shape, Duration, Observation Text, Note Text"
   ]
  },
  {
   "cell_type": "code",
   "execution_count": 36,
   "metadata": {},
   "outputs": [
    {
     "data": {
      "text/plain": [
       "DatetimeIndex(['2016-10-08 07:34:13', '2015-11-15 06:12:48',\n",
       "               '2015-01-24 10:11:04', '2015-03-26 16:23:53',\n",
       "               '2017-04-01 00:38:21', '2015-05-15 03:47:54',\n",
       "               '2015-06-24 07:32:32'],\n",
       "              dtype='datetime64[ns]', freq=None)"
      ]
     },
     "execution_count": 36,
     "metadata": {},
     "output_type": "execute_result"
    }
   ],
   "source": [
    "time = ['2016-10-08 07:34:13', '2015-11-15 06:12:48',\n",
    "               '2015-01-24 10:11:04', '2015-03-26 16:23:53',\n",
    "               '2017-04-01 00:38:21', '2015-05-15 03:47:54',\n",
    "               '2015-06-24 07:32:32']\n",
    "times = pd.to_datetime(time)"
   ]
  },
  {
   "cell_type": "code",
   "execution_count": 55,
   "metadata": {},
   "outputs": [],
   "source": [
    "# Create some mockdata for now\n",
    "dates = ['1', '2', '3', '1', '4', '5', '2']\n",
    "times = pd.to_datetime(time)\n",
    "locations = ['canada', 'washington', 'ohio', 'united states', 'california', 'florida', 'ohio']\n",
    "shape = ['disk', 'circle', 'light', 'circle', 'cylinder', 'unspecified', 'disk']\n",
    "duration = [10, 15, 20, 10, 5, 5, 12]\n",
    "text = ['laskdjflksjdf;', 'alkdsjfljlkjdf', 'wodlkjflsakdj', 'alskjfkdsaf', 'a;lskdjflkj', 'asdf', 'asdasdf']\n",
    "note_text = ['laskdjfljdf;', 'alkdsjflkjdf', 'lkjflsakdj', 'jfkdsaf', 'akdjflkj', 'asf', 'sdasdf']\n",
    "\n",
    "df = pd.DataFrame({'dates': dates, 'times': times, 'locations': locations, 'shape': shape, 'duration': duration,\n",
    "                  'text': text, 'note_text': note_text})\n"
   ]
  },
  {
   "cell_type": "code",
   "execution_count": 56,
   "metadata": {},
   "outputs": [],
   "source": [
    "df\n",
    "df['only_dates'] = df['times'].dt.normalize()\n",
    "df['only_times'] = df['times'].dt.time"
   ]
  },
  {
   "cell_type": "code",
   "execution_count": 57,
   "metadata": {},
   "outputs": [
    {
     "data": {
      "text/html": [
       "<div>\n",
       "<style scoped>\n",
       "    .dataframe tbody tr th:only-of-type {\n",
       "        vertical-align: middle;\n",
       "    }\n",
       "\n",
       "    .dataframe tbody tr th {\n",
       "        vertical-align: top;\n",
       "    }\n",
       "\n",
       "    .dataframe thead th {\n",
       "        text-align: right;\n",
       "    }\n",
       "</style>\n",
       "<table border=\"1\" class=\"dataframe\">\n",
       "  <thead>\n",
       "    <tr style=\"text-align: right;\">\n",
       "      <th></th>\n",
       "      <th>dates</th>\n",
       "      <th>times</th>\n",
       "      <th>locations</th>\n",
       "      <th>shape</th>\n",
       "      <th>duration</th>\n",
       "      <th>text</th>\n",
       "      <th>note_text</th>\n",
       "      <th>only_dates</th>\n",
       "      <th>only_times</th>\n",
       "    </tr>\n",
       "  </thead>\n",
       "  <tbody>\n",
       "    <tr>\n",
       "      <th>0</th>\n",
       "      <td>1</td>\n",
       "      <td>2016-10-08 07:34:13</td>\n",
       "      <td>canada</td>\n",
       "      <td>disk</td>\n",
       "      <td>10</td>\n",
       "      <td>laskdjflksjdf;</td>\n",
       "      <td>laskdjfljdf;</td>\n",
       "      <td>2016-10-08</td>\n",
       "      <td>07:34:13</td>\n",
       "    </tr>\n",
       "    <tr>\n",
       "      <th>1</th>\n",
       "      <td>2</td>\n",
       "      <td>2015-11-15 06:12:48</td>\n",
       "      <td>washington</td>\n",
       "      <td>circle</td>\n",
       "      <td>15</td>\n",
       "      <td>alkdsjfljlkjdf</td>\n",
       "      <td>alkdsjflkjdf</td>\n",
       "      <td>2015-11-15</td>\n",
       "      <td>06:12:48</td>\n",
       "    </tr>\n",
       "    <tr>\n",
       "      <th>2</th>\n",
       "      <td>3</td>\n",
       "      <td>2015-01-24 10:11:04</td>\n",
       "      <td>ohio</td>\n",
       "      <td>light</td>\n",
       "      <td>20</td>\n",
       "      <td>wodlkjflsakdj</td>\n",
       "      <td>lkjflsakdj</td>\n",
       "      <td>2015-01-24</td>\n",
       "      <td>10:11:04</td>\n",
       "    </tr>\n",
       "    <tr>\n",
       "      <th>3</th>\n",
       "      <td>1</td>\n",
       "      <td>2015-03-26 16:23:53</td>\n",
       "      <td>united states</td>\n",
       "      <td>circle</td>\n",
       "      <td>10</td>\n",
       "      <td>alskjfkdsaf</td>\n",
       "      <td>jfkdsaf</td>\n",
       "      <td>2015-03-26</td>\n",
       "      <td>16:23:53</td>\n",
       "    </tr>\n",
       "    <tr>\n",
       "      <th>4</th>\n",
       "      <td>4</td>\n",
       "      <td>2017-04-01 00:38:21</td>\n",
       "      <td>california</td>\n",
       "      <td>cylinder</td>\n",
       "      <td>5</td>\n",
       "      <td>a;lskdjflkj</td>\n",
       "      <td>akdjflkj</td>\n",
       "      <td>2017-04-01</td>\n",
       "      <td>00:38:21</td>\n",
       "    </tr>\n",
       "    <tr>\n",
       "      <th>5</th>\n",
       "      <td>5</td>\n",
       "      <td>2015-05-15 03:47:54</td>\n",
       "      <td>florida</td>\n",
       "      <td>unspecified</td>\n",
       "      <td>5</td>\n",
       "      <td>asdf</td>\n",
       "      <td>asf</td>\n",
       "      <td>2015-05-15</td>\n",
       "      <td>03:47:54</td>\n",
       "    </tr>\n",
       "    <tr>\n",
       "      <th>6</th>\n",
       "      <td>2</td>\n",
       "      <td>2015-06-24 07:32:32</td>\n",
       "      <td>ohio</td>\n",
       "      <td>disk</td>\n",
       "      <td>12</td>\n",
       "      <td>asdasdf</td>\n",
       "      <td>sdasdf</td>\n",
       "      <td>2015-06-24</td>\n",
       "      <td>07:32:32</td>\n",
       "    </tr>\n",
       "  </tbody>\n",
       "</table>\n",
       "</div>"
      ],
      "text/plain": [
       "  dates               times      locations        shape  duration  \\\n",
       "0     1 2016-10-08 07:34:13         canada         disk        10   \n",
       "1     2 2015-11-15 06:12:48     washington       circle        15   \n",
       "2     3 2015-01-24 10:11:04           ohio        light        20   \n",
       "3     1 2015-03-26 16:23:53  united states       circle        10   \n",
       "4     4 2017-04-01 00:38:21     california     cylinder         5   \n",
       "5     5 2015-05-15 03:47:54        florida  unspecified         5   \n",
       "6     2 2015-06-24 07:32:32           ohio         disk        12   \n",
       "\n",
       "             text     note_text only_dates only_times  \n",
       "0  laskdjflksjdf;  laskdjfljdf; 2016-10-08   07:34:13  \n",
       "1  alkdsjfljlkjdf  alkdsjflkjdf 2015-11-15   06:12:48  \n",
       "2   wodlkjflsakdj    lkjflsakdj 2015-01-24   10:11:04  \n",
       "3     alskjfkdsaf       jfkdsaf 2015-03-26   16:23:53  \n",
       "4     a;lskdjflkj      akdjflkj 2017-04-01   00:38:21  \n",
       "5            asdf           asf 2015-05-15   03:47:54  \n",
       "6         asdasdf        sdasdf 2015-06-24   07:32:32  "
      ]
     },
     "execution_count": 57,
     "metadata": {},
     "output_type": "execute_result"
    }
   ],
   "source": [
    "df"
   ]
  },
  {
   "cell_type": "code",
   "execution_count": 59,
   "metadata": {},
   "outputs": [
    {
     "data": {
      "image/png": "[encoded data removed]",
      "text/plain": [
       "<Figure size 864x288 with 2 Axes>"
      ]
     },
     "metadata": {},
     "output_type": "display_data"
    }
   ],
   "source": [
    "# Lets look at shapes and durations\n",
    "shape_counts = df['shape'].value_counts()\n",
    "fig, axes = plt.subplots(1, 2, figsize=(12,4))\n",
    "ax = axes[0]              labels = 'Frogs', 'Hogs', 'Dogs', 'Logs'\n",
    "sizes = [15, 30, 45, 10]\n",
    "explode = (0, 0.1, 0, 0)  # only \"explode\" the 2nd slice (i.e. 'Hogs')\n",
    "\n",
    "fig1, ax1 = plt.subplots()\n",
    "ax1.pie(sizes, explode=explode, labels=labels, autopct='%1.1f%%',\n",
    "        shadow=True, startangle=90)\n",
    "ax1.axis('equal')  # Equal aspect ratio ensures that pie is drawn as a circle.\n",
    "\n",
    "plt.show()\n",
    "         \n",
    "ax.bar(shape_counts.index, height=shape_counts.values, alpha=0.8)\n",
    "ax.set_title(\"Counts of Shapes\")\n",
    "ax.set_ylabel(\"Counts\")\n",
    "\n",
    "ax = axes[1]\n",
    "duration_counts = df['duration'].value_counts()\n",
    "ax.bar(duration_counts.index, height=duration_counts.values, alpha=0.8)\n",
    "ax.set_title(\"Duration\")\n",
    "ax.set_ylabel(\"Counts\")\n",
    "ax.set_xlabel(\"Minutes\")\n",
    "\n",
    "plt.savefig('images/shape_duration.png', bbox_inches='tight')"
   ]
  },
  {
   "cell_type": "code",
   "execution_count": 60,
   "metadata": {},
   "outputs": [
    {
     "data": {
      "text/plain": [
       "array([datetime.time(7, 34, 13), datetime.time(6, 12, 48),\n",
       "       datetime.time(10, 11, 4), datetime.time(16, 23, 53),\n",
       "       datetime.time(0, 38, 21), datetime.time(3, 47, 54),\n",
       "       datetime.time(7, 32, 32)], dtype=object)"
      ]
     },
     "execution_count": 60,
     "metadata": {},
     "output_type": "execute_result"
    }
   ],
   "source": [
    "df['only_times'].values"
   ]
  },
  {
   "cell_type": "code",
   "execution_count": 64,
   "metadata": {},
   "outputs": [],
   "source": [
    "early_morning = df[df['only_times'] < datetime.time(5, 0,0)]\n",
    "morning = df[(df['only_times'] > datetime.time(5,0,0)) & (df['only_times'] < datetime.time(12,0,0))]\n",
    "afternoon = df[(df['only_times'] > datetime.time(12,0,0)) & (df['only_times'] < datetime.time(5,0,0))]\n",
    "evening = df[(df['only_times'] > datetime.time(5,0,0)) & (df['only_times'] < datetime.time(23,59,59))]"
   ]
  },
  {
   "cell_type": "code",
   "execution_count": 66,
   "metadata": {},
   "outputs": [
    {
     "data": {
      "text/plain": [
       "2"
      ]
     },
     "execution_count": 66,
     "metadata": {},
     "output_type": "execute_result"
    }
   ],
   "source": [
    "early_morning.shape[0]"
   ]
  },
  {
   "cell_type": "code",
   "execution_count": 68,
   "metadata": {},
   "outputs": [],
   "source": [
    "def find_times(df):\n",
    "    early_morning = df[df['only_times'] < datetime.time(5, 0,0)]\n",
    "    morning = df[(df['only_times'] > datetime.time(5,0,0)) & (df['only_times'] < datetime.time(12,0,0))]\n",
    "    afternoon = df[(df['only_times'] > datetime.time(12,0,0)) & (df['only_times'] < datetime.time(5,0,0))]\n",
    "    evening = df[(df['only_times'] > datetime.time(5,0,0)) & (df['only_times'] < datetime.time(23,59,59))]\n",
    "    \n",
    "    n_earlymorning = early_morning.shape[0]\n",
    "    n_morning = morning.shape[0]\n",
    "    n_afternoon = afternoon.shape[0]\n",
    "    n_evening = evening.shape[0]\n",
    "    \n",
    "    return [n_earlymorning, n_morning, n_afternoon, n_evening]"
   ]
  },
  {
   "cell_type": "code",
   "execution_count": 73,
   "metadata": {},
   "outputs": [
    {
     "data": {
      "image/png": "[encoded data removed]",
      "text/plain": [
       "<Figure size 432x288 with 1 Axes>"
      ]
     },
     "metadata": {},
     "output_type": "display_data"
    }
   ],
   "source": [
    "# Make pie-chart of times\n",
    "labels = ['Early Morning', 'Morning', 'Afternoon', 'Evening']\n",
    "sizes = find_times(df)\n",
    "explode = (0, 0, 0, 0)  # only \"explode\" the 2nd slice (i.e. 'Hogs')\n",
    "\n",
    "fig, ax = plt.subplots()\n",
    "ax.pie(sizes, explode=explode, labels=labels, autopct='%1.1f%%',\n",
    "        shadow=True, startangle=90)\n",
    "ax.axis('equal')  # Equal aspect ratio ensures that pie is drawn as a circle.\n",
    "plt.savefig('images/time_of_day.png')\n"
   ]
  },
  {
   "cell_type": "code",
   "execution_count": null,
   "metadata": {},
   "outputs": [],
   "source": []
  }
 ],
 "metadata": {
  "kernelspec": {
   "display_name": "Python 3",
   "language": "python",
   "name": "python3"
  },
  "language_info": {
   "codemirror_mode": {
    "name": "ipython",
    "version": 3
   },
   "file_extension": ".py",
   "mimetype": "text/x-python",
   "name": "python",
   "nbconvert_exporter": "python",
   "pygments_lexer": "ipython3",
   "version": "3.7.6"
  }
 },
 "nbformat": 4,
 "nbformat_minor": 4
}
